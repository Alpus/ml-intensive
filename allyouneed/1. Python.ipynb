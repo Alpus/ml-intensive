{
 "cells": [
  {
   "cell_type": "code",
   "execution_count": null,
   "metadata": {},
   "outputs": [],
   "source": [
    "%matplotlib inline"
   ]
  },
  {
   "cell_type": "markdown",
   "metadata": {},
   "source": [
    "# Python"
   ]
  },
  {
   "cell_type": "markdown",
   "metadata": {},
   "source": [
    "## Что такое python:\n",
    "Программирование - это когда ты говоришь компьютеру, что тебе от него нужно.\n",
    "\n",
    "Язык программирования - способ как сказать это компьютеру.\n",
    "\n",
    "Python - язык программирования.\n",
    "\n",
    "## Разновидности python:\n",
    "Есть две основные ветки - python2 и python3. Если мы говорим о языках, это диалекты. Очень похожи, но некоторые команды пишутся по-разному. Мы используем python3.\n",
    "\n",
    "## Почему python:\n",
    "\n",
    "* Простой\n",
    "* Много библиотек\n",
    "* 90% ресерча делают на нем"
   ]
  },
  {
   "cell_type": "markdown",
   "metadata": {},
   "source": [
    "![Monty Python](http://story.ru/upload/iblock/b69/b69a9873f5a4eac345ee1ba40f538c81.jpg)"
   ]
  },
  {
   "cell_type": "code",
   "execution_count": null,
   "metadata": {},
   "outputs": [],
   "source": [
    "from IPython.lib.display import YouTubeVideo\n",
    "YouTubeVideo('zHlo5cq0afM')"
   ]
  },
  {
   "cell_type": "markdown",
   "metadata": {},
   "source": [
    "# Что это за окошко"
   ]
  },
  {
   "cell_type": "markdown",
   "metadata": {},
   "source": [
    "Это программа Jupyter Notebook. В ней удобно экспериментировать с языком. В ней есть ячейки, в которых можно писать инструкции. После этого их можно запускать в любом порядке."
   ]
  },
  {
   "cell_type": "code",
   "execution_count": null,
   "metadata": {},
   "outputs": [],
   "source": [
    "first_counter = 0\n",
    "second_counter = 0"
   ]
  },
  {
   "cell_type": "code",
   "execution_count": null,
   "metadata": {},
   "outputs": [],
   "source": [
    "first_counter += 1\n",
    "print('Колличество запусков первой ячейки: {}'.format(first_counter))"
   ]
  },
  {
   "cell_type": "code",
   "execution_count": null,
   "metadata": {},
   "outputs": [],
   "source": [
    "second_counter += 1\n",
    "print('Колличество запусков второй ячейки: {}'.format(second_counter))"
   ]
  },
  {
   "cell_type": "markdown",
   "metadata": {},
   "source": [
    "Иногда вы будете видеть красные пугающие надписи"
   ]
  },
  {
   "cell_type": "code",
   "execution_count": null,
   "metadata": {},
   "outputs": [],
   "source": [
    "not_existsing_variable"
   ]
  },
  {
   "cell_type": "markdown",
   "metadata": {},
   "source": [
    "Это ошибки. python подсказывает что он считает неправильным. Если внимательно их читать, то можно легко понять проблему."
   ]
  },
  {
   "cell_type": "markdown",
   "metadata": {},
   "source": [
    "## Зачем мне знать как программировать?"
   ]
  },
  {
   "cell_type": "markdown",
   "metadata": {},
   "source": [
    "* Чтобы обучить машину.\n",
    "* Это очень удобный инстурмент для жизни. Как калькулятор."
   ]
  },
  {
   "cell_type": "markdown",
   "metadata": {},
   "source": [
    "# Примеры"
   ]
  },
  {
   "cell_type": "markdown",
   "metadata": {},
   "source": [
    "## Калькулятор"
   ]
  },
  {
   "cell_type": "markdown",
   "metadata": {},
   "source": [
    "Что-то простое:"
   ]
  },
  {
   "cell_type": "code",
   "execution_count": null,
   "metadata": {},
   "outputs": [],
   "source": [
    "2 + 2"
   ]
  },
  {
   "cell_type": "markdown",
   "metadata": {},
   "source": [
    "Операции пишутся каждая на новой строчке. Jupyter Notebook выводит под ячейкой только последний результат:"
   ]
  },
  {
   "cell_type": "code",
   "execution_count": null,
   "metadata": {},
   "outputs": [],
   "source": [
    "1 + 2\n",
    "1 + 1"
   ]
  },
  {
   "cell_type": "markdown",
   "metadata": {},
   "source": [
    "Чтобы сохранять результаты на будущее, мы можем использовать переменные:"
   ]
  },
  {
   "cell_type": "code",
   "execution_count": null,
   "metadata": {},
   "outputs": [],
   "source": [
    "a = 1 + 2\n",
    "b = 1 + 1"
   ]
  },
  {
   "cell_type": "markdown",
   "metadata": {},
   "source": [
    "Ничего не вывелось, потому что результат отправился в переменную. Однако, мы все еще можем вывести его: "
   ]
  },
  {
   "cell_type": "code",
   "execution_count": null,
   "metadata": {},
   "outputs": [],
   "source": [
    "a"
   ]
  },
  {
   "cell_type": "code",
   "execution_count": null,
   "metadata": {},
   "outputs": [],
   "source": [
    "b"
   ]
  },
  {
   "cell_type": "markdown",
   "metadata": {},
   "source": [
    "Если результат не был присвоен куда-либо, он присваивается в переменную `_`"
   ]
  },
  {
   "cell_type": "code",
   "execution_count": null,
   "metadata": {},
   "outputs": [],
   "source": [
    "17 + 3"
   ]
  },
  {
   "cell_type": "code",
   "execution_count": null,
   "metadata": {},
   "outputs": [],
   "source": [
    "_"
   ]
  },
  {
   "cell_type": "markdown",
   "metadata": {},
   "source": [
    "Python умеет вычислять и очень большие числа:"
   ]
  },
  {
   "cell_type": "code",
   "execution_count": null,
   "metadata": {},
   "outputs": [],
   "source": [
    "391232131234863984619832746981326498621498649387212312346 + 8726981236498123649872364986123123123498762398164981263498"
   ]
  },
  {
   "cell_type": "markdown",
   "metadata": {},
   "source": [
    "Естественно, пользоваться можно не только сложением:"
   ]
  },
  {
   "cell_type": "code",
   "execution_count": null,
   "metadata": {},
   "outputs": [],
   "source": [
    "a + b  # сложение"
   ]
  },
  {
   "cell_type": "code",
   "execution_count": null,
   "metadata": {},
   "outputs": [],
   "source": [
    "a - b  # вычитание"
   ]
  },
  {
   "cell_type": "code",
   "execution_count": null,
   "metadata": {},
   "outputs": [],
   "source": [
    "a * b  # умножение"
   ]
  },
  {
   "cell_type": "code",
   "execution_count": null,
   "metadata": {},
   "outputs": [],
   "source": [
    "a / b  # деление"
   ]
  },
  {
   "cell_type": "code",
   "execution_count": null,
   "metadata": {},
   "outputs": [],
   "source": [
    "a // b  # деление на цело"
   ]
  },
  {
   "cell_type": "code",
   "execution_count": null,
   "metadata": {},
   "outputs": [],
   "source": [
    "a % b  # остаток от деления"
   ]
  },
  {
   "cell_type": "code",
   "execution_count": null,
   "metadata": {},
   "outputs": [],
   "source": [
    "a ** b  # возведение в степень"
   ]
  },
  {
   "cell_type": "code",
   "execution_count": null,
   "metadata": {},
   "outputs": [],
   "source": [
    "-a  # смена знака "
   ]
  },
  {
   "cell_type": "code",
   "execution_count": null,
   "metadata": {},
   "outputs": [],
   "source": [
    "# Все что идет после \"#\" - это коментарий. Python просто игнорирует этот текст. Он придуман для удобства людей."
   ]
  },
  {
   "cell_type": "markdown",
   "metadata": {},
   "source": [
    "Конечно, все эти команды можно комбинировать."
   ]
  },
  {
   "cell_type": "code",
   "execution_count": null,
   "metadata": {},
   "outputs": [],
   "source": [
    "a = 2"
   ]
  },
  {
   "cell_type": "code",
   "execution_count": null,
   "metadata": {},
   "outputs": [],
   "source": [
    "(-((15 + 3) / 7) ** 4) / a"
   ]
  },
  {
   "cell_type": "markdown",
   "metadata": {},
   "source": [
    "Но это все можно делать и с помощью калькулятора. Идем дальше."
   ]
  },
  {
   "cell_type": "markdown",
   "metadata": {},
   "source": [
    "## Функции"
   ]
  },
  {
   "cell_type": "markdown",
   "metadata": {},
   "source": [
    "Функция это штука которая что-то принимает, обрабатывает и отдает результат. Вот пример функции, находящей сумму трех чисел."
   ]
  },
  {
   "cell_type": "code",
   "execution_count": null,
   "metadata": {},
   "outputs": [],
   "source": [
    "def sum_of_3(a, b, c):  # функция называется mean, принимает переменные a, b и c\n",
    "    return a + b + c  # возвращает a + b + c"
   ]
  },
  {
   "cell_type": "markdown",
   "metadata": {},
   "source": [
    "В начале любой функции пишется \"def\", после этого идет название функции, дальше в скобках переменные которые она принимает и \":\". Дальше вы можете описать что функция делает. \"return\" - обозначет что результат следующего выражения будет возвращен. Все \"тело\" функции пишется с отсупом (кнопка \"tab\"). Так python понимает где заканчивается описание функции."
   ]
  },
  {
   "cell_type": "code",
   "execution_count": null,
   "metadata": {},
   "outputs": [],
   "source": [
    "sum_of_3(1, 2, 3)  # теперь мы можем вызывать нашу функцию из любого места программы"
   ]
  },
  {
   "cell_type": "markdown",
   "metadata": {},
   "source": [
    "Это уже чуть больше чем умеет обычный калькулятор. Мы можем запоминать сложные операции и воспроизводить их позже. Напишем функцию находящую среднее из трех, используя \"sum_of_3\"."
   ]
  },
  {
   "cell_type": "code",
   "execution_count": null,
   "metadata": {},
   "outputs": [],
   "source": [
    "def mean_of_3(a, b, c):\n",
    "    total = sum_of_3(a, b, c)\n",
    "    return total / 3"
   ]
  },
  {
   "cell_type": "code",
   "execution_count": null,
   "metadata": {},
   "outputs": [],
   "source": [
    "mean_of_3(1, 2, 3)"
   ]
  },
  {
   "cell_type": "markdown",
   "metadata": {},
   "source": [
    "Так мы можем писать простые части и комбинировать их."
   ]
  },
  {
   "cell_type": "markdown",
   "metadata": {},
   "source": [
    "# Списки и циклы"
   ]
  },
  {
   "cell_type": "markdown",
   "metadata": {},
   "source": [
    "А если нам захочется сделать сумму 4-ех чисел? Глупо писать по функции на каждое количество. Чтобы хранить неопределенное количество объектов существуют списки."
   ]
  },
  {
   "cell_type": "code",
   "execution_count": null,
   "metadata": {},
   "outputs": [],
   "source": [
    "a = [1, 2, 3]"
   ]
  },
  {
   "cell_type": "code",
   "execution_count": null,
   "metadata": {},
   "outputs": [],
   "source": [
    "a"
   ]
  },
  {
   "cell_type": "markdown",
   "metadata": {},
   "source": [
    "Мы можем забирать любой элемент поотдельности с помощью квадратынх скобок в которых находится номер элемента."
   ]
  },
  {
   "cell_type": "code",
   "execution_count": null,
   "metadata": {},
   "outputs": [],
   "source": [
    "a[0]"
   ]
  },
  {
   "cell_type": "code",
   "execution_count": null,
   "metadata": {},
   "outputs": [],
   "source": [
    "a[1]"
   ]
  },
  {
   "cell_type": "code",
   "execution_count": null,
   "metadata": {},
   "outputs": [],
   "source": [
    "a[2]"
   ]
  },
  {
   "cell_type": "code",
   "execution_count": null,
   "metadata": {},
   "outputs": [],
   "source": [
    "a[3]"
   ]
  },
  {
   "cell_type": "markdown",
   "metadata": {},
   "source": [
    "Но что еще удобнее, мы можем пройтись по всем элементам списка. Для этого есть цикл \"for\"."
   ]
  },
  {
   "cell_type": "code",
   "execution_count": null,
   "metadata": {},
   "outputs": [],
   "source": [
    "sum_of_elements = 0\n",
    "for element in a:\n",
    "    sum_of_elements = sum_of_elements + element"
   ]
  },
  {
   "cell_type": "code",
   "execution_count": null,
   "metadata": {},
   "outputs": [],
   "source": [
    "sum_of_elements"
   ]
  },
  {
   "cell_type": "markdown",
   "metadata": {},
   "source": [
    "Читать это можно как\" пройдись по всем элементам в \"a\" и сделай то, что написано ниже. Текущий элемент будет называться \"element\"."
   ]
  },
  {
   "cell_type": "markdown",
   "metadata": {},
   "source": [
    "Кстати в питоне бывают не только числовые переменные, но и например строки."
   ]
  },
  {
   "cell_type": "code",
   "execution_count": null,
   "metadata": {},
   "outputs": [],
   "source": [
    "my_string = '1234'"
   ]
  },
  {
   "cell_type": "code",
   "execution_count": null,
   "metadata": {},
   "outputs": [],
   "source": [
    "my_string"
   ]
  },
  {
   "cell_type": "markdown",
   "metadata": {},
   "source": [
    "Пользоваться ими можно как и списками"
   ]
  },
  {
   "cell_type": "code",
   "execution_count": null,
   "metadata": {},
   "outputs": [],
   "source": [
    "my_string[0]"
   ]
  },
  {
   "cell_type": "code",
   "execution_count": null,
   "metadata": {},
   "outputs": [],
   "source": [
    "my_string[1]"
   ]
  },
  {
   "cell_type": "code",
   "execution_count": null,
   "metadata": {},
   "outputs": [],
   "source": [
    "my_string[2]"
   ]
  },
  {
   "cell_type": "code",
   "execution_count": null,
   "metadata": {},
   "outputs": [],
   "source": [
    "my_string[3]"
   ]
  },
  {
   "cell_type": "markdown",
   "metadata": {},
   "source": [
    "Такую строку не сложно превратить в число и обратно"
   ]
  },
  {
   "cell_type": "code",
   "execution_count": null,
   "metadata": {},
   "outputs": [],
   "source": [
    "number = int(my_string)  # int - от слова integer, целые числа\n",
    "number"
   ]
  },
  {
   "cell_type": "code",
   "execution_count": null,
   "metadata": {},
   "outputs": [],
   "source": [
    "string = str(number)  # и обратно, str от слова string\n",
    "string"
   ]
  },
  {
   "cell_type": "markdown",
   "metadata": {},
   "source": [
    "Это уже намного мощнее чем калькулятор. Например мы можем посчитать вероятность того, что хотя бы у двоих из вас день рождения в один день."
   ]
  },
  {
   "cell_type": "code",
   "execution_count": null,
   "metadata": {},
   "outputs": [],
   "source": [
    "def probability_of_same_birthday(count_of_people):\n",
    "    probability_of_all_different_birthday = 1\n",
    "    for number in range(count_of_people):  # range(count_of_people) возвращает список от 0 до count_of_people\n",
    "        probability_of_all_different_birthday = probability_of_all_different_birthday * ((365 - number) / 365)\n",
    "    return 1 - probability_of_all_different_birthday"
   ]
  },
  {
   "cell_type": "code",
   "execution_count": null,
   "metadata": {},
   "outputs": [],
   "source": [
    "probability_of_same_birthday(40)"
   ]
  },
  {
   "cell_type": "markdown",
   "metadata": {},
   "source": [
    "Не один ли вы из этих счастливчиков? :-)"
   ]
  },
  {
   "cell_type": "markdown",
   "metadata": {},
   "source": [
    "# Условия"
   ]
  },
  {
   "cell_type": "markdown",
   "metadata": {},
   "source": [
    "Очень часто нам нужно совершить некоторое действие в зависимости от ситуации. Тогда мы используем \"if\"."
   ]
  },
  {
   "cell_type": "code",
   "execution_count": null,
   "metadata": {},
   "outputs": [],
   "source": [
    "def check_x(x):\n",
    "    if x == 0:  # первое условие, == значит \"равно\"\n",
    "        print('x equals zero')  # print выведет результат вне зависимости от того, что вернула функция\n",
    "    elif x == 1:  # второе условие вызовется если не сработало первое но второе верно\n",
    "        print('x equals one')\n",
    "    else:  # произойдет в остальных случаях\n",
    "        print('x not equals zero or one')\n",
    "        \n",
    "    # в функции нет return - она не возвращает ничего"
   ]
  },
  {
   "cell_type": "code",
   "execution_count": null,
   "metadata": {},
   "outputs": [],
   "source": [
    "check_x(2123)"
   ]
  },
  {
   "cell_type": "markdown",
   "metadata": {},
   "source": [
    "Попробуйте повызывать функцию с аргументом равным 0, 1 или чему-то еще."
   ]
  },
  {
   "cell_type": "markdown",
   "metadata": {},
   "source": [
    "Python иногда очень похож на английский язык, так что когда вам надо комбинировать условия вы можете использовать \"and\" или \"or\"."
   ]
  },
  {
   "cell_type": "code",
   "execution_count": null,
   "metadata": {},
   "outputs": [],
   "source": [
    "def check_x_2(x):\n",
    "    if x != 0 and x != 1:  # != значит \"не равно\"\n",
    "        print('x not equals zero or one')\n",
    "    else:\n",
    "        print('x equals zero or one')\n",
    "        \n",
    "    # в функции нет return - она не возвращает ничего"
   ]
  },
  {
   "cell_type": "code",
   "execution_count": null,
   "metadata": {},
   "outputs": [],
   "source": [
    "check_x_2(0)"
   ]
  },
  {
   "cell_type": "markdown",
   "metadata": {},
   "source": [
    "Знаете игру быки и коровы? Один игрок загадывает четырехзначное число, второй предполагает какое это число и получает в ответ количество правильных цифр не на своем месте (коров) и количество верных на своем (быков). Давайте попробуем написать проверку колличества быков. "
   ]
  },
  {
   "cell_type": "code",
   "execution_count": null,
   "metadata": {},
   "outputs": [],
   "source": [
    "def count_bulls(assumed_word, target_word):\n",
    "    bulls = 0\n",
    "    \n",
    "    for number in range(4):\n",
    "        if assumed_word[number] == target_word[number]:\n",
    "            bulls += 1  # то же самое что bulls = bulls + 1\n",
    "    \n",
    "    return bulls"
   ]
  },
  {
   "cell_type": "markdown",
   "metadata": {},
   "source": [
    "Чтобы посчитать коров, нам нужно знать сколько каких букв в каждом слове. Для этого существуют словари."
   ]
  },
  {
   "cell_type": "code",
   "execution_count": null,
   "metadata": {},
   "outputs": [],
   "source": [
    "a = dict()  # dict не принимает ничего, а возвращает словарь"
   ]
  },
  {
   "cell_type": "code",
   "execution_count": null,
   "metadata": {},
   "outputs": [],
   "source": [
    "a"
   ]
  },
  {
   "cell_type": "markdown",
   "metadata": {},
   "source": [
    "Сейчас он пустой. Словарь похож на список."
   ]
  },
  {
   "cell_type": "code",
   "execution_count": null,
   "metadata": {},
   "outputs": [],
   "source": [
    "a[0] = 0"
   ]
  },
  {
   "cell_type": "code",
   "execution_count": null,
   "metadata": {},
   "outputs": [],
   "source": [
    "a[0]"
   ]
  },
  {
   "cell_type": "markdown",
   "metadata": {},
   "source": [
    "Только элементы в нем могут лежать не только под какими-то номерами, но и под названиями."
   ]
  },
  {
   "cell_type": "code",
   "execution_count": null,
   "metadata": {},
   "outputs": [],
   "source": [
    "a['one'] = 123"
   ]
  },
  {
   "cell_type": "code",
   "execution_count": null,
   "metadata": {},
   "outputs": [],
   "source": [
    "a['one']"
   ]
  },
  {
   "cell_type": "code",
   "execution_count": null,
   "metadata": {},
   "outputs": [],
   "source": [
    "a"
   ]
  },
  {
   "cell_type": "markdown",
   "metadata": {},
   "source": [
    "т.к. в словаре, в отличие от списка, элементы лежат не по порядку \"0, 1, 2...\", а в произвольных ключах, нам нужно уметь проверять, есть ли такой ключ в словаре"
   ]
  },
  {
   "cell_type": "code",
   "execution_count": null,
   "metadata": {},
   "outputs": [],
   "source": [
    "'one' in a"
   ]
  },
  {
   "cell_type": "code",
   "execution_count": null,
   "metadata": {},
   "outputs": [],
   "source": [
    "a['one']"
   ]
  },
  {
   "cell_type": "code",
   "execution_count": null,
   "metadata": {},
   "outputs": [],
   "source": [
    "'two' in a"
   ]
  },
  {
   "cell_type": "code",
   "execution_count": null,
   "metadata": {},
   "outputs": [],
   "source": [
    "a['two']"
   ]
  },
  {
   "cell_type": "code",
   "execution_count": null,
   "metadata": {},
   "outputs": [],
   "source": [
    "0 in a"
   ]
  },
  {
   "cell_type": "code",
   "execution_count": null,
   "metadata": {},
   "outputs": [],
   "source": [
    "a[0]"
   ]
  },
  {
   "cell_type": "markdown",
   "metadata": {},
   "source": [
    "Посчитаем коров"
   ]
  },
  {
   "cell_type": "code",
   "execution_count": null,
   "metadata": {},
   "outputs": [],
   "source": [
    "def count_cows(assumed_word, target_word):\n",
    "    assumed_word_letters = dict()\n",
    "    target_word_letters = dict()\n",
    "    \n",
    "    for letter in assumed_word:\n",
    "        if letter not in assumed_word_letters:\n",
    "            assumed_word_letters[letter] = 1\n",
    "        else:\n",
    "            assumed_word_letters[letter] += 1\n",
    "    \n",
    "    for letter in target_word:\n",
    "        if letter not in target_word_letters:\n",
    "            target_word_letters[letter] = 1\n",
    "        else:\n",
    "            target_word_letters[letter] += 1\n",
    "    \n",
    "    cows = 0\n",
    "    for letter in assumed_word_letters:  # если мы идем циклом по словарю, то на самом деле идем по ключам этого словаря\n",
    "        if letter in target_word_letters:\n",
    "            cows += min(assumed_word_letters[letter], target_word_letters[letter])\n",
    "    \n",
    "    return cows"
   ]
  },
  {
   "cell_type": "markdown",
   "metadata": {},
   "source": [
    "Теперь, давайте напишем функцию, которая проверяет одну попытку в игру быки и коровы"
   ]
  },
  {
   "cell_type": "code",
   "execution_count": null,
   "metadata": {},
   "outputs": [],
   "source": [
    "def count_bulls_and_cows(assumed_word, target_word):\n",
    "    assumed_word_str = str(assumed_word)  # превратим наши числа в строчки\n",
    "    target_word_str = str(target_word)\n",
    "    \n",
    "    if len(assumed_word_str) != 4 or len(target_word_str) != 4:  # len() принимает объекты похожие на списки, а возвращает их длину\n",
    "        print('Bad numbers')\n",
    "    else:\n",
    "        bulls = count_bulls(assumed_word_str, target_word_str)\n",
    "        cows = count_cows(assumed_word_str, target_word_str) - bulls\n",
    "        \n",
    "        if bulls == 4:\n",
    "            return 'You Win!'\n",
    "        else:\n",
    "            return cows, bulls"
   ]
  },
  {
   "cell_type": "code",
   "execution_count": null,
   "metadata": {},
   "outputs": [],
   "source": [
    "count_bulls_and_cows(1234, 1235)"
   ]
  },
  {
   "cell_type": "markdown",
   "metadata": {},
   "source": [
    "Чтобы дописать игру нам нужно совсем немного - получать случайное число. Помните мы говорили о библиотеках? Чтобы загрузить одну из таких используем import."
   ]
  },
  {
   "cell_type": "code",
   "execution_count": null,
   "metadata": {},
   "outputs": [],
   "source": [
    "from random import randint"
   ]
  },
  {
   "cell_type": "markdown",
   "metadata": {},
   "source": [
    "random это библиотека. Из нее мы достаем функцию randint. Она возвращает случайное число от a до b."
   ]
  },
  {
   "cell_type": "code",
   "execution_count": null,
   "metadata": {},
   "outputs": [],
   "source": [
    "randint(1000, 9999)"
   ]
  },
  {
   "cell_type": "markdown",
   "metadata": {},
   "source": [
    "Что ж, поиграем :-)"
   ]
  },
  {
   "cell_type": "code",
   "execution_count": null,
   "metadata": {},
   "outputs": [],
   "source": [
    "secret_word = randint(1000, 9999)"
   ]
  },
  {
   "cell_type": "code",
   "execution_count": null,
   "metadata": {},
   "outputs": [],
   "source": [
    "count_bulls_and_cows('1113', secret_word)"
   ]
  },
  {
   "cell_type": "code",
   "execution_count": null,
   "metadata": {},
   "outputs": [],
   "source": []
  },
  {
   "cell_type": "markdown",
   "metadata": {},
   "source": [
    "Таких полезных библиотек много, например вот еще одна, она позволяет рисовать графики."
   ]
  },
  {
   "cell_type": "code",
   "execution_count": null,
   "metadata": {},
   "outputs": [],
   "source": [
    "from matplotlib import pyplot as plt"
   ]
  },
  {
   "cell_type": "markdown",
   "metadata": {},
   "source": [
    "Давайте построим график ваших знаний о машинном обучении за последнее время"
   ]
  },
  {
   "cell_type": "code",
   "execution_count": null,
   "metadata": {},
   "outputs": [],
   "source": [
    "xs = range(0, 100)"
   ]
  },
  {
   "cell_type": "code",
   "execution_count": null,
   "metadata": {},
   "outputs": [],
   "source": [
    "ys = []\n",
    "for x in xs:\n",
    "    ys.append(1.1 ** x)"
   ]
  },
  {
   "cell_type": "code",
   "execution_count": null,
   "metadata": {},
   "outputs": [],
   "source": [
    "plt.plot(range(0, 100), ys)"
   ]
  },
  {
   "cell_type": "markdown",
   "metadata": {},
   "source": [
    "# Классы"
   ]
  },
  {
   "cell_type": "markdown",
   "metadata": {},
   "source": [
    "Последнее, о чем стоит рассказать - это классы. Сначала мы должны его описать."
   ]
  },
  {
   "cell_type": "code",
   "execution_count": null,
   "metadata": {},
   "outputs": [],
   "source": [
    "class ExampleClass:  # ExampleClass - название класса\n",
    "    def __init__(self):  # волшебный метод, который запускается, когда мы создаем экземпляр класса.\n",
    "        self.test_value = 1  #  self - это \"я\" для класса. Когда мы сохраняем что-то в self, мы сохраняем в экземпляре класса.\n",
    "        \n",
    "    def increase_value(self):\n",
    "        self.test_value += 1"
   ]
  },
  {
   "cell_type": "code",
   "execution_count": null,
   "metadata": {},
   "outputs": [],
   "source": [
    "example = ExampleClass()  # создаем класс"
   ]
  },
  {
   "cell_type": "markdown",
   "metadata": {},
   "source": [
    "В этот момент вызовется ```__init__(example)``` описанный в ```ExampleClass```. Поэтому в ```example``` теперь лежит ```test_value```"
   ]
  },
  {
   "cell_type": "code",
   "execution_count": null,
   "metadata": {},
   "outputs": [],
   "source": [
    "example.test_value"
   ]
  },
  {
   "cell_type": "markdown",
   "metadata": {},
   "source": [
    "Также как и с ```__init__```, функция ```increase_value``` вместо self будет получать ```example```."
   ]
  },
  {
   "cell_type": "code",
   "execution_count": null,
   "metadata": {},
   "outputs": [],
   "source": [
    "example.increase_value()"
   ]
  },
  {
   "cell_type": "code",
   "execution_count": null,
   "metadata": {},
   "outputs": [],
   "source": [
    "example.test_value"
   ]
  },
  {
   "cell_type": "markdown",
   "metadata": {},
   "source": [
    "Классы используются там, где нам нужно не просто обрабатывать данные, как в функциях, но и хранить их состояние. Так, например мы можем написать класс игры в быков и коров."
   ]
  },
  {
   "cell_type": "code",
   "execution_count": null,
   "metadata": {},
   "outputs": [],
   "source": [
    "class Game:\n",
    "    def __init__(self):\n",
    "        self.reset_game()\n",
    "        \n",
    "    def reset_game(self):\n",
    "        self.secret_word = randint(1000, 9999)\n",
    "        self.steps_number = 0\n",
    "    \n",
    "    def check_number(self, word):\n",
    "        self.steps_number += 1\n",
    "        print('Step: {}'.format(self.steps_number))\n",
    "        return count_bulls_and_cows(str(word), self.secret_word)"
   ]
  },
  {
   "cell_type": "code",
   "execution_count": null,
   "metadata": {},
   "outputs": [],
   "source": [
    "game = Game()"
   ]
  },
  {
   "cell_type": "code",
   "execution_count": null,
   "metadata": {},
   "outputs": [],
   "source": [
    "game.check_number(1111)"
   ]
  },
  {
   "cell_type": "code",
   "execution_count": null,
   "metadata": {},
   "outputs": [],
   "source": [
    "game.reset_game()"
   ]
  },
  {
   "cell_type": "code",
   "execution_count": null,
   "metadata": {},
   "outputs": [],
   "source": []
  },
  {
   "cell_type": "markdown",
   "metadata": {},
   "source": [
    "Давайте еще раз обозначим о чем мы говорили."
   ]
  },
  {
   "cell_type": "markdown",
   "metadata": {},
   "source": [
    "Почитать: «Изучаем Python» Марк Лутц"
   ]
  },
  {
   "cell_type": "code",
   "execution_count": null,
   "metadata": {},
   "outputs": [],
   "source": []
  },
  {
   "cell_type": "code",
   "execution_count": null,
   "metadata": {},
   "outputs": [],
   "source": []
  }
 ],
 "metadata": {
  "kernelspec": {
   "display_name": "Python 3",
   "language": "python",
   "name": "python3"
  },
  "language_info": {
   "codemirror_mode": {
    "name": "ipython",
    "version": 3
   },
   "file_extension": ".py",
   "mimetype": "text/x-python",
   "name": "python",
   "nbconvert_exporter": "python",
   "pygments_lexer": "ipython3",
   "version": "3.6.5"
  }
 },
 "nbformat": 4,
 "nbformat_minor": 2
}
